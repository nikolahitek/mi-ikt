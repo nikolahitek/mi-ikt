{
 "cells": [
  {
   "cell_type": "markdown",
   "metadata": {
    "kernel": "SoS"
   },
   "source": [
    "# Филтрирање на слика во фреквенциски домен"
   ]
  },
  {
   "cell_type": "markdown",
   "metadata": {
    "kernel": "SoS"
   },
   "source": [
    "## Теорија"
   ]
  },
  {
   "cell_type": "markdown",
   "metadata": {
    "kernel": "SoS"
   },
   "source": [
    "За да филтрираме слика во фреквенциски домен потребно е да ја помножиме сликата во фреквенциски домен со филтерот (кернел) кој е исто така во фреквенциски домен."
   ]
  },
  {
   "cell_type": "markdown",
   "metadata": {
    "kernel": "SoS"
   },
   "source": [
    "$$I_{f,filt} = HI_f$$"
   ]
  },
  {
   "cell_type": "markdown",
   "metadata": {
    "kernel": "SoS"
   },
   "source": [
    "За таа цел потребно е да се вметне Octave функција која ќе креира “Band pass gaussian filter” во фреквенциски домен. Bandpass гаусовиот филтер во фреквенциски домен е дефиниран со равенката:"
   ]
  },
  {
   "cell_type": "markdown",
   "metadata": {
    "kernel": "SoS"
   },
   "source": [
    "$$ H(i,j) = e^{-\\frac{d(i,j)^2}{f_h^2}} (1 - e^{-\\frac{d(i,j)^2}{f_l^2}}) $$"
   ]
  },
  {
   "cell_type": "markdown",
   "metadata": {
    "kernel": "SoS"
   },
   "source": [
    "Каде што 𝑑(𝑖,𝑗) е евклидовото растојанието на даден пиксел од центарот на сликата, додека 𝑓ℎ и 𝑓𝑙 се праговите на високите и ниските фреквенции кои сакаме да ги филтрираме. \n",
    "Конверзија на 2D сликата од просторен во фреквенциски домен се прави со користење на Фуриева трансформација. Фуриевата трансформација е дефинирана како:"
   ]
  },
  {
   "cell_type": "markdown",
   "metadata": {
    "kernel": "SoS"
   },
   "source": [
    "$$ F(u,v) = \\iint_{-\\infty}^{\\infty} f(x,y) e^{-i2\\pi(ux + vy)} \\,dx\\,dy$$"
   ]
  },
  {
   "cell_type": "markdown",
   "metadata": {
    "kernel": "SoS"
   },
   "source": [
    "А во дискретниот домен горната равенка може да биде преведена како"
   ]
  },
  {
   "cell_type": "markdown",
   "metadata": {
    "kernel": "SoS"
   },
   "source": [
    "$$ F(u,v) = \\sum_{m=-\\infty}^{\\infty} \\sum_{n=-\\infty}^{\\infty} f[m,n] \\cdot e^{-i2\\pi(umx_0 + vny_0)} $$"
   ]
  },
  {
   "cell_type": "markdown",
   "metadata": {
    "kernel": "SoS"
   },
   "source": [
    "Конверзија на 2D сликата од фреквенциски во просторен домен се прави со користење на инверзна Фуриева трансформација. Инверзната Фуриева трансформација е дефинирана како:"
   ]
  },
  {
   "cell_type": "markdown",
   "metadata": {
    "kernel": "SoS"
   },
   "source": [
    "$$ f(x,y) = \\iint_{-\\infty}^{\\infty} F(u,v) e^{i2\\pi(ux + vy)} \\,du\\,dv$$"
   ]
  },
  {
   "cell_type": "markdown",
   "metadata": {
    "kernel": "SoS"
   },
   "source": [
    "А во дискретниот домен горната равенка може да биде преведена како"
   ]
  },
  {
   "cell_type": "markdown",
   "metadata": {
    "kernel": "SoS"
   },
   "source": [
    "$$ f(x,y) = \\sum_{m=-\\infty}^{\\infty} \\sum_{n=-\\infty}^{\\infty} F(m,n) \\cdot e^{i2\\pi(xmu_0 + ynv_0)} $$"
   ]
  },
  {
   "cell_type": "markdown",
   "metadata": {
    "kernel": "SoS"
   },
   "source": [
    "## Имплементација"
   ]
  },
  {
   "cell_type": "markdown",
   "metadata": {
    "kernel": "SoS"
   },
   "source": [
    "Функција за создавање на филтер:"
   ]
  },
  {
   "cell_type": "code",
   "execution_count": 1,
   "metadata": {
    "kernel": "Octave"
   },
   "outputs": [],
   "source": [
    "function filter = create_filter(nx,ny,d0,d1)\n",
    "    filter = ones(nx,ny);\n",
    "\n",
    "    for i = 0:nx-1\n",
    "        for j = 0:ny-1\n",
    "            dist= sqrt((i-nx/2)^2 + (j-ny/2)^2);\n",
    "            filter(i+1,j+1) = exp(-(dist^2)/(d1^2)).*(1.0-exp(-(dist^2)/(d0^2)));\n",
    "        end\n",
    "    end\n",
    "\n",
    "    filter(nx/2+1,ny/2+1)=1;\n",
    "end"
   ]
  },
  {
   "cell_type": "markdown",
   "metadata": {
    "kernel": "Octave"
   },
   "source": [
    "Вчитување на сликата и Фуриева трансформација врз неа:"
   ]
  },
  {
   "cell_type": "code",
   "execution_count": 2,
   "metadata": {
    "kernel": "Octave"
   },
   "outputs": [],
   "source": [
    "global img img_fft\n",
    "img = imread('Barbara.tif');\n",
    "img_fft = fftshift(fft2(img));"
   ]
  },
  {
   "cell_type": "markdown",
   "metadata": {
    "kernel": "Octave"
   },
   "source": [
    "Функција за добивање на филтрирана слика (параметри се фрекфенциските прагови со чекор 10):"
   ]
  },
  {
   "cell_type": "code",
   "execution_count": 3,
   "metadata": {
    "kernel": "Octave"
   },
   "outputs": [],
   "source": [
    "function filtered_image = filter_image(filter)\n",
    "    global img_fft\n",
    "    filtered_image = abs(ifft2(ifftshift(filter.*img_fft)));\n",
    "end"
   ]
  },
  {
   "cell_type": "markdown",
   "metadata": {
    "kernel": "Octave"
   },
   "source": [
    "Функција за добивање на филтерот во фрекфенциски домен (параметри се фрекфенциските прагови со чекор 10):"
   ]
  },
  {
   "cell_type": "code",
   "execution_count": 4,
   "metadata": {
    "kernel": "Octave"
   },
   "outputs": [],
   "source": [
    "function filter = filter_freq(l, h)\n",
    "    global img\n",
    "    \n",
    "    fl = 1 + l*10;\n",
    "    fh = 1 + h*10;\n",
    "    \n",
    "    img_double = im2double(img);\n",
    "    [nx, ny] = size(img_double);\n",
    "    \n",
    "    filter = create_filter(nx, ny, fl, fh);\n",
    "end"
   ]
  },
  {
   "cell_type": "markdown",
   "metadata": {
    "kernel": "Octave"
   },
   "source": [
    "Креирање на паровите слика и филтер кои ке се користат во визуелизација, границите на слајдерот се од 0 до 10, а бидејќи високата граница не може да биде помала од ниската, вториот for циклус е поставен на дадениот начин:"
   ]
  },
  {
   "cell_type": "code",
   "execution_count": null,
   "metadata": {
    "kernel": "Octave"
   },
   "outputs": [],
   "source": [
    "for i = 0:10\n",
    "    for j = i:10\n",
    "         tmp_f = filter_freq(i, j);\n",
    "         tmp_i = filter_image(tmp_f);\n",
    "         images(i+1, j+1, :) = tmp_i(:);\n",
    "         filters(i+1, j+1, :) = tmp_f(:);\n",
    "    end\n",
    "end"
   ]
  },
  {
   "cell_type": "code",
   "execution_count": null,
   "metadata": {
    "kernel": "Octave"
   },
   "outputs": [],
   "source": [
    "save('f_images.mat', 'images', '-v6')\n",
    "save('f_filters.mat', 'filters', '-v6')"
   ]
  },
  {
   "cell_type": "markdown",
   "metadata": {
    "kernel": "Octave"
   },
   "source": [
    "## Визуелизација"
   ]
  },
  {
   "cell_type": "code",
   "execution_count": null,
   "metadata": {
    "kernel": "Python3"
   },
   "outputs": [],
   "source": [
    "import scipy.io as sio\n",
    "import matplotlib.pyplot as plt\n",
    "import matplotlib.image as mpimg\n",
    "%matplotlib inline\n",
    "import numpy as np\n",
    "from ipywidgets import interactive, widgets, interact, HBox, Label\n",
    "from IPython.display import Javascript\n",
    "\n",
    "images = sio.loadmat('f_images')['images']\n",
    "filters = sio.loadmat('f_filters')['filters']\n",
    "\n",
    "slider = widgets.IntRangeSlider(\n",
    "    min=0,\n",
    "    max=10,\n",
    "    step=1,\n",
    "    readout=False,\n",
    "    description=' ')\n",
    "slider.layout.width = '500px'\n",
    "\n",
    "def update_freq_cutoffs(y):\n",
    "    L, H = y[0], y[1]\n",
    "    fig = plt.figure()\n",
    "    a = fig.add_subplot(1, 2, 1)\n",
    "    imgplot = plt.imshow(np.rot90((images[L][H].reshape(402,566)), -1))\n",
    "    a = fig.add_subplot(1, 2, 2)\n",
    "    imgplot = plt.imshow(np.rot90((filters[L][H].reshape(402,566)), -1))\n",
    "\n",
    "HBox([Label('Frequency cutoffs:'), interactive(update_freq_cutoffs, y=slider)])"
   ]
  }
 ],
 "metadata": {
  "kernelspec": {
   "display_name": "SoS",
   "language": "sos",
   "name": "sos"
  },
  "language_info": {
   "codemirror_mode": "sos",
   "file_extension": ".sos",
   "mimetype": "text/x-sos",
   "name": "sos",
   "nbconvert_exporter": "sos_notebook.converter.SoS_Exporter",
   "pygments_lexer": "sos"
  },
  "sos": {
   "kernels": [
    [
     "Octave",
     "octave",
     "octave",
     "",
     ""
    ],
    [
     "Python3",
     "python3",
     "Python3",
     "#FFD91A",
     {
      "name": "ipython",
      "version": 3
     }
    ],
    [
     "SoS",
     "sos",
     "",
     "",
     "sos"
    ]
   ],
   "panel": {
    "displayed": true,
    "height": 0
   },
   "version": "0.21.0"
  }
 },
 "nbformat": 4,
 "nbformat_minor": 2
}
